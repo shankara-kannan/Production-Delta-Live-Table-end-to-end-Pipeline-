{
 "cells": [
  {
   "cell_type": "code",
   "execution_count": 0,
   "metadata": {
    "application/vnd.databricks.v1+cell": {
     "cellMetadata": {
      "byteLimit": 2048000,
      "rowLimit": 10000
     },
     "inputWidgets": {},
     "nuid": "d53bd55f-5515-444b-a2c5-3fc85ca56790",
     "showTitle": false,
     "tableResultSettingsMap": {},
     "title": ""
    }
   },
   "outputs": [],
   "source": [
    "%sql\n",
    "CREATE STREAMING LIVE TABLE customers \n",
    "COMMENT 'This table is for customer data' \n",
    "AS SELECT *,current_timestamp() as ingested_date FROM cloud_files(\n",
    "    \"dbfs:/mnt/rawdatastoragefiles/Customer/\",\n",
    "    \"csv\",\n",
    "    map(\"header\", \"true\", \"inferSchema\", \"true\")\n",
    ");"
   ]
  },
  {
   "cell_type": "code",
   "execution_count": 0,
   "metadata": {
    "application/vnd.databricks.v1+cell": {
     "cellMetadata": {},
     "inputWidgets": {},
     "nuid": "84251129-7688-445b-9464-a94949fe5a1e",
     "showTitle": false,
     "tableResultSettingsMap": {},
     "title": ""
    }
   },
   "outputs": [],
   "source": [
    "CREATE STREAMING LIVE TABLE product \n",
    "COMMENT 'This table is for product data' \n",
    "AS SELECT *,current_timestamp() as ingested_date FROM cloud_files(\n",
    "    \"dbfs:/mnt/rawdatastoragefiles/Product/\",\n",
    "    \"csv\",\n",
    "    map(\"header\", \"true\", \"inferSchema\", \"true\")\n",
    ");"
   ]
  },
  {
   "cell_type": "code",
   "execution_count": 0,
   "metadata": {
    "application/vnd.databricks.v1+cell": {
     "cellMetadata": {},
     "inputWidgets": {},
     "nuid": "609ef2fc-2c7d-4104-86e3-bd0c85158994",
     "showTitle": false,
     "tableResultSettingsMap": {},
     "title": ""
    }
   },
   "outputs": [],
   "source": [
    "CREATE STREAMING LIVE TABLE sales \n",
    "COMMENT 'This table is for Sales data' \n",
    "AS SELECT *,current_timestamp() as ingested_date FROM cloud_files(\n",
    "    \"dbfs:/mnt/rawdatastoragefiles/Sales/\",\n",
    "    \"csv\",\n",
    "    map(\"header\", \"true\", \"inferSchema\", \"true\")\n",
    ");"
   ]
  },
  {
   "cell_type": "code",
   "execution_count": 0,
   "metadata": {
    "application/vnd.databricks.v1+cell": {
     "cellMetadata": {},
     "inputWidgets": {},
     "nuid": "d9dbbe52-5962-40de-9038-d79ebc0a6bd8",
     "showTitle": false,
     "tableResultSettingsMap": {},
     "title": ""
    }
   },
   "outputs": [],
   "source": [
    "create streaming table sales_silver\n",
    "(\n",
    "  constraint valid_id expect (order_id is not null) on violation drop row\n",
    ") \n",
    "as select distinct * from stream(live.sales);"
   ]
  },
  {
   "cell_type": "code",
   "execution_count": 0,
   "metadata": {
    "application/vnd.databricks.v1+cell": {
     "cellMetadata": {},
     "inputWidgets": {},
     "nuid": "5c5e4aee-3941-4781-ade0-1553afc2db7d",
     "showTitle": false,
     "tableResultSettingsMap": {},
     "title": ""
    }
   },
   "outputs": [],
   "source": [
    "CREATE OR REFRESH STREAMING TABLE customer_silver;\n",
    "\n",
    "APPLY CHANGES INTO\n",
    "  customer_silver\n",
    "FROM\n",
    "  stream(live.customers)\n",
    "KEYS\n",
    "  (customer_id)\n",
    "APPLY AS DELETE WHEN\n",
    "  operation = \"DELETE\"\n",
    "SEQUENCE BY\n",
    "  sequenceNum\n",
    "COLUMNS * EXCEPT\n",
    "  (_rescued_data, sequenceNum,ingested_date)\n",
    "STORED AS\n",
    "  SCD TYPE 2;"
   ]
  },
  {
   "cell_type": "code",
   "execution_count": 0,
   "metadata": {
    "application/vnd.databricks.v1+cell": {
     "cellMetadata": {},
     "inputWidgets": {},
     "nuid": "cdff5c41-777c-4226-84f7-95a4e26ad0a4",
     "showTitle": false,
     "tableResultSettingsMap": {},
     "title": ""
    }
   },
   "outputs": [],
   "source": [
    "create or replace streaming live table products_silver;\n",
    "\n",
    "apply changes into products_silver\n",
    "from stream(live.product)\n",
    "keys(product_id)\n",
    "APPLY AS DELETE WHEN\n",
    "  operation = \"DELETE\"\n",
    "sequence by \n",
    "seqNum\n",
    "columns * except(_rescued_data, seqNum,ingested_date)\n",
    "stored as \n",
    "SCD type 1;\n"
   ]
  },
  {
   "cell_type": "code",
   "execution_count": 0,
   "metadata": {
    "application/vnd.databricks.v1+cell": {
     "cellMetadata": {},
     "inputWidgets": {},
     "nuid": "241c0d0e-4176-4d77-ad55-6ee4336a290f",
     "showTitle": false,
     "tableResultSettingsMap": {},
     "title": ""
    }
   },
   "outputs": [],
   "source": [
    "create or replace streaming table customers_silver_active \n",
    "as select * except(operation,__END_AT,__START_AT) from stream(live.customer_silver) where __END_AT IS NULL;"
   ]
  },
  {
   "cell_type": "code",
   "execution_count": 0,
   "metadata": {
    "application/vnd.databricks.v1+cell": {
     "cellMetadata": {},
     "inputWidgets": {},
     "nuid": "91139337-4967-4501-9763-1c2648d88dfd",
     "showTitle": false,
     "tableResultSettingsMap": {},
     "title": ""
    }
   },
   "outputs": [],
   "source": [
    "create or replace live table total_sales_customers_wise\n",
    "as select a.customer_id,\n",
    "a.customer_name,\n",
    "round(sum(b.total_amount)) as total_sales,\n",
    "round(sum(b.discount_amount)) as total_discounts\n",
    " from live.customers_silver_active a \n",
    "join live.sales_silver b on a.customer_id=b.customer_id\n",
    "group by a.customer_id,a.customer_name\n",
    "order by total_sales desc;"
   ]
  },
  {
   "cell_type": "code",
   "execution_count": 0,
   "metadata": {
    "application/vnd.databricks.v1+cell": {
     "cellMetadata": {},
     "inputWidgets": {},
     "nuid": "c52b84ac-75fb-4ff2-9a33-a0aad7dc64a9",
     "showTitle": false,
     "tableResultSettingsMap": {},
     "title": ""
    }
   },
   "outputs": [],
   "source": [
    "create or replace live table products_category_sales\n",
    "as \n",
    "select a.product_category\n",
    ",round(sum(b.total_amount)) as total_sales\n",
    "from live.products_silver a \n",
    "join live.sales_silver b on a.product_id=b.product_id\n",
    "group by a.product_category\n",
    "order by total_sales desc;"
   ]
  },
  {
   "cell_type": "code",
   "execution_count": 0,
   "metadata": {
    "application/vnd.databricks.v1+cell": {
     "cellMetadata": {},
     "inputWidgets": {},
     "nuid": "53d19fb0-b99b-4f95-b88d-efc070e59ef8",
     "showTitle": false,
     "tableResultSettingsMap": {},
     "title": ""
    }
   },
   "outputs": [],
   "source": []
  }
 ],
 "metadata": {
  "application/vnd.databricks.v1+notebook": {
   "computePreferences": null,
   "dashboards": [],
   "environmentMetadata": {
    "base_environment": "",
    "environment_version": "2"
   },
   "inputWidgetPreferences": null,
   "language": "sql",
   "notebookMetadata": {
    "pythonIndentUnit": 4
   },
   "notebookName": "Delta Live table Pipeline",
   "widgets": {}
  },
  "language_info": {
   "name": "sql"
  }
 },
 "nbformat": 4,
 "nbformat_minor": 0
}
